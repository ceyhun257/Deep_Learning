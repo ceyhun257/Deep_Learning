{
 "cells": [
  {
   "cell_type": "code",
   "execution_count": 1,
   "id": "79bf794d",
   "metadata": {},
   "outputs": [],
   "source": [
    "import numpy as np\n",
    "import matplotlib.pyplot as plt\n",
    "from sklearn.datasets import make_classification\n",
    "import time"
   ]
  },
  {
   "cell_type": "code",
   "execution_count": 2,
   "id": "72005bd7",
   "metadata": {},
   "outputs": [],
   "source": [
    "class LogisticRegression():\n",
    "    \n",
    "    def __init__(self, data, epochs, learnig_rate, layer_dim=1):\n",
    "        \n",
    "        self.X = data[0].T # n x m\n",
    "        self.y = data[1].reshape(1, -1) # 1 x m\n",
    "        \n",
    "        self.nx = self.X.shape[0] # n\n",
    "        self.m = self.X.shape[1] # m\n",
    "        \n",
    "        self.parameters = {}\n",
    "        \n",
    "        self.layer_dim = layer_dim\n",
    "        self.parameters['W' + str(1)] = np.random.randn(self.layer_dim, self.nx) * 0.01 # 4 x n\n",
    "        self.parameters[\"b\" + str(1)] = np.zeros((self.layer_dim, 1))\n",
    "\n",
    "        self.epochs = epochs\n",
    "        self.costs = np.zeros((epochs, 1))\n",
    "        self.learning_rate = learnig_rate\n",
    "    \n",
    "    @staticmethod\n",
    "    def sigmoid(Z):\n",
    "        \n",
    "        A = ( 1 + np.exp(-Z) ) ** -1\n",
    "\n",
    "        return A\n",
    "    \n",
    "    \n",
    "    def compute_cost(self, A):\n",
    "\n",
    "        loss = - ( ( np.dot(self.y, np.log(A.T)) + np.dot((1 - self.y), np.log(1 - A.T)) ) ) / self.m\n",
    "        \n",
    "        return loss\n",
    "    \n",
    "    @staticmethod\n",
    "    def forward_pass(A0, W, b):\n",
    "\n",
    "        Z = np.dot(W, A0) + b\n",
    "\n",
    "        return Z\n",
    "    \n",
    "    def backward_pass(self, A):\n",
    "        \n",
    "        dZ = A - self.y\n",
    "        \n",
    "        dW = np.dot(self.X, dZ.T) / self.m\n",
    "        \n",
    "        db = np.sum(dZ) / self.m\n",
    "        \n",
    "        return dZ, dW, db\n",
    "    \n",
    "    def update_gradients(self, dZ, dW, db):\n",
    "        \n",
    "        self.parameters[\"W1\"] -= self.learning_rate * dW\n",
    "        self.parameters[\"b1\"] -= self.learning_rate * db\n",
    "\n",
    "        \n",
    "    def plot(self):\n",
    "        \n",
    "        _ = plt.plot(self.costs)\n",
    "        _ = plt.plot(self.costs.argmin(), self.costs.min(), \"ro\", markerfacecolor=\"w\")\n",
    "        _ = plt.text(self.costs.argmin() - 100, self.costs.min() + 0.05, f\"{self.costs.min():.3f}\")\n",
    "        \n",
    "    \n",
    "    def launch_network(self, print_cost=False):\n",
    "        \n",
    "        \n",
    "        for e in range(self.epochs):\n",
    "            \n",
    "            Z = self.forward_pass(self.X, self.parameters[\"W1\"], self.parameters[\"b1\"])\n",
    "            A = self.sigmoid(Z)\n",
    "            loss = self.compute_cost(A)\n",
    "            self.costs[e] = loss\n",
    "            \n",
    "            dZ, dW, db = self.backward_pass(A)\n",
    "            self.update_gradients(dZ, dW.T, db)\n",
    "            \n",
    "            if e % 250 == 0 and print_cost:\n",
    "                print(f\"Cost after iteration {e} = {np.round(np.squeeze(loss), 3)}\")\n",
    "                "
   ]
  },
  {
   "cell_type": "code",
   "execution_count": 3,
   "id": "5f55656a",
   "metadata": {},
   "outputs": [],
   "source": [
    "data = make_classification(1000, n_features=4, class_sep=1)"
   ]
  },
  {
   "cell_type": "code",
   "execution_count": 4,
   "id": "9155e76c",
   "metadata": {},
   "outputs": [
    {
     "name": "stdout",
     "output_type": "stream",
     "text": [
      "Cost after iteration 0 = 0.702\n",
      "Cost after iteration 250 = 0.242\n",
      "Cost after iteration 500 = 0.189\n",
      "Cost after iteration 750 = 0.169\n",
      "Cost after iteration 1000 = 0.157\n",
      "Total Time = 0.058\n"
     ]
    },
    {
     "data": {
      "image/png": "[encoded data removed]",
      "text/plain": [
       "<Figure size 432x288 with 1 Axes>"
      ]
     },
     "metadata": {
      "needs_background": "light"
     },
     "output_type": "display_data"
    }
   ],
   "source": [
    "begin = time.time()\n",
    "Lreg = LogisticRegression(data, epochs=1001, learnig_rate=0.02)\n",
    "_ = Lreg.launch_network(print_cost=True)\n",
    "_ = Lreg.plot()\n",
    "end = time.time()\n",
    "print(f\"Total Time = {np.round(end - begin, 3)}\")"
   ]
  },
  {
   "cell_type": "code",
   "execution_count": null,
   "id": "100a3aed",
   "metadata": {},
   "outputs": [],
   "source": []
  }
 ],
 "metadata": {
  "kernelspec": {
   "display_name": "Python 3 (ipykernel)",
   "language": "python",
   "name": "python3"
  },
  "language_info": {
   "codemirror_mode": {
    "name": "ipython",
    "version": 3
   },
   "file_extension": ".py",
   "mimetype": "text/x-python",
   "name": "python",
   "nbconvert_exporter": "python",
   "pygments_lexer": "ipython3",
   "version": "3.8.8"
  }
 },
 "nbformat": 4,
 "nbformat_minor": 5
}
